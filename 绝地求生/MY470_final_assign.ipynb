{
 "cells": [
  {
   "cell_type": "markdown",
   "metadata": {
    "slideshow": {
     "slide_type": "slide"
    }
   },
   "source": [
    "### MY470 Computer Programming\n",
    "\n",
    "### Final Assignment, MT 2019\n",
    "\n",
    "#### \\*\\*\\* Due 12:00 noon on Monday, January 20, 2020 \\*\\*\\*"
   ]
  },
  {
   "cell_type": "markdown",
   "metadata": {
    "slideshow": {
     "slide_type": "slide"
    }
   },
   "source": [
    "---\n",
    "## Are victims of cheaters more likely to cheat?\n",
    "\n",
    "The final assignment asks you to use the computational thinking and programming skills you learned in the course to answer an empirical social science question. You are expected to apply the best practices and theoretical concepts we covered in the course to produce a program that not only returns the correct output but is also legible, modular, and reasonably optimized. The assignment assumes mastery of loops, conditionals, and functions, as well as awareness of issues related to runtime performance.\n",
    "\n",
    "In the assignment, we will study the social contagion of cheating on the massive multiplayer online game PlayerUnknown's Battlegrounds (PUBG). Cheating in this context means the adoption of unapproved software that gives the player an unfair advantage in the game (e.g. being able to see through walls). Our hypothesis is that players who are killed in the game by cheaters become likely to adopt cheating themselves. To test this hypothesis, we will first count how many victims of players become cheaters within a certain period of time. We will call these **victim–cheater motifs**. We will then simulate alternative universes in which the players played the same games in the same sequence but happened to be killed by someone else. Finally, we will compare how the count of the victim–cheater motifs observed in the actual data compares to what we would expect in a \"randomized\" world.  \n",
    "\n",
    "**NOTE: You are only allowed to use fundamental Python data types (lists, tuples, dictionaries, numpy.ndarray, etc.) to complete this assignment.** You are not allowed to use advanced data querying and data analysis packages such as pandas, sqlite, networkx, or similar. We impose this restriction in order to test your grasp of fundamental programming concepts, not your scripting experience with Python libraries. \n",
    "\n",
    "#### Hints\n",
    "\n",
    "Although this assignment is quite streamlined, imagine that the tasks here are part of a larger project. How would you structure your program if in the future you may need to use a different dataset with similar structure, manipulate the data differently, add additional analyses, or modify the focus of the current analysis? For example, consider placing helping functions in a separate file called `utils.py` or `tools.py`. These would be functions that you may need in different contexts and for different tasks. \n",
    "\n",
    "Keep different data manipulations in separate functions/methods and group related functions/classes in separate `.py` files. \n"
   ]
  },
  {
   "cell_type": "markdown",
   "metadata": {
    "slideshow": {
     "slide_type": "slide"
    }
   },
   "source": [
    "### Data\n",
    "\n",
    "You will find the data in the repository [https://github.com/lse-my470/assignment-final-data.git](https://github.com/lse-my470/assignment-final-data.git). Please clone the data repository in the same directory where you clone the repository `assignment-final-yourgithubname`. Keep the name for the data folder `assignment-final-data`. Any time when you refer to the data in your code, please use a relative path such as `'../assignment-final-data/filename.txt'` instead of an absolute path such as `'/Users/myname/Documents/my470/assignment-final-data/filename.txt'`. This way, we will be able to test your submission with our own copy of the data without having to modify your code.\n",
    "\n",
    "The data were collected by Jinny Kim (LSE ASDS MSc, 2019). The repository contains the following files:\n",
    "\n",
    "* `cheaters.txt` – contains cheaters who played between March 1 and March 10, 2019\n",
    "    1. player account id\n",
    "    * estimated date when the player started cheating\n",
    "    * date when the player's account was banned due to cheating\n",
    "    \n",
    "* `kills.txt` – contains the killings done in 6,000 randomly selected matches played between March 1 and March 10, 2019\n",
    "    1. match id \n",
    "    * account id of the killer\n",
    "    * account id of the player who got killed\n",
    "    * time when the attack (killing) happened\n",
    "\n",
    "#### Hints\n",
    "\n",
    "When writing your code, test it on a small \"toy dataset\", instead of the entire data. This way, you won't need to wait for minutes/hours just to find out that you have a syntax error!\n",
    "\n",
    "You should not modify the original data in any way. If your code creates new data files, you should save them in the directory where this file resides. "
   ]
  },
  {
   "cell_type": "markdown",
   "metadata": {},
   "source": [
    "### 1. Victims of cheaters turn into cheaters\n",
    "\n",
    "Count how many individuals were killed at least once by a cheater and then started cheating within the next 5 days. We will assume here that we can only talk about a causal relationship if the two events (being killed by a cheater and starting to cheat) are relatively proximate in time (within 5 days of each other). In essence, we are looking for temporal motifs in which cheater A kills B and then B becomes cheater, but the timing between the two events should not be more than 5 days.  \n",
    "\n",
    "#### Hint\n",
    "\n",
    "Assume that a day starts at 0:00. \n",
    "\n",
    "\n",
    "### 2. Simulating an alternative universe\n",
    "\n",
    "Of course, proximal in time does not necessarily mean causal. \n",
    "\n",
    "To establish causality, we will simulate an alternative world in which everything is the same but the cheater happens to kill someone else. If being a victim of cheating causes cheating, in the randomized world we will observe fewer victim–cheater motifs than in reality. To simulate an alternative universe, we will keep the timing and structure of interactions but randomly assign the identities of players. There are certain restrictions we need to observe, however: \n",
    "\n",
    "* Randomize within a game, not between games. \n",
    "* Randomize only games that have at least one cheater. The killings in games without cheaters do not affect the measure we are using.\n",
    "* A player cannot kill if the player has been killed already.\n",
    "* Since cheaters may tend to kill more or kill at a specific period in the game, we will preserve their position in the killing network. That is, only non-cheaters should be randomly reassigned. \n",
    "\n",
    "The figure below illustrates how shuffling should be completed:\n",
    "\n",
    "![Match randomization](match_randomization_diagram.png)\n",
    "\n",
    "#### Hints\n",
    "\n",
    "This step may be time consuming so it is worth finding a way to save the data so that you don't need to run the randomization again and again while working on step 3 below. If you decide to do so, please write your code to save any such files with processed data in the directory where this file resides. This way, we can run your code without having to alter it.\n",
    "\n",
    "Think about what is the most efficient way, both in terms of time and space, to save the data.\n",
    "\n",
    "\n",
    "### 3. Evaluating reality against alternative universes \n",
    "\n",
    "Conduct 10 randomizations for the data. Then plot the number of victim–cheater motifs observed in the actual data compared to the distribution you get in the randomized data. What do you observe? What does this tell us? (Write 2-3 sentences to reflect on the answer. You will not be marked on what you write but wouldn't it be a waste to do all of this work and not even try to think about what the results mean?) \n",
    "\n",
    "### Hint\n",
    "\n",
    "One way to visualize the results is with a histogram for the randomized network and a vertical line for the real network. Since we only have 10 randomized observations, this may not look that well, so feel free to experiment with other plot types.\n"
   ]
  },
  {
   "cell_type": "markdown",
   "metadata": {},
   "source": [
    "## Import and run your code here\n",
    "\n",
    "Keep your code in separate `.py` files and then import it in the code cell below. Then call the functions/methods you need to conduct the analysis described above. We should be able to run the cell below to calculate again the results and get the requested output, without having to modify your code in any way. "
   ]
  },
  {
   "cell_type": "code",
   "execution_count": 1,
   "metadata": {},
   "outputs": [
    {
     "name": "stdout",
     "output_type": "stream",
     "text": [
      "The amount of that victim–cheater motifs is 29.\n"
     ]
    }
   ],
   "source": [
    "#### Question 1\n",
    "\n",
    "## --- Firstly, import two txt files into nested lists ---\n",
    "\n",
    "cheater_lst = []\n",
    "for line in open('assignment-final-data/cheaters.txt', 'r'):\n",
    "    cheater_lst.append(line.strip('\\n').split('\\t'))\n",
    "        \n",
    "\n",
    "killing_lst = []\n",
    "for line in open('assignment-final-data/kills.txt', 'r'):\n",
    "    killing_lst.append(line.strip('\\n').split('\\t'))\n",
    "        \n",
    "\n",
    "### --- Secondly, Find victim–cheater motifs ---\n",
    "\n",
    "\n",
    "import timecounter\n",
    "import peoplecounter\n",
    "\n",
    "peoplecounter.counter(killing_lst, cheater_lst)"
   ]
  },
  {
   "cell_type": "code",
   "execution_count": 2,
   "metadata": {},
   "outputs": [],
   "source": [
    "#### Question 2\n",
    "\n",
    "## --- Firstly, filter useful killing data for simulation --- \n",
    "\n",
    "# only the game have at least one cheater should be kept\n",
    "# filter out all games without cheaters\n",
    "\n",
    "cheaters_id = []\n",
    "for i in range(len(cheater_lst)):\n",
    "    cheaters_id.append(cheater_lst[i][0])\n",
    "        \n",
    "cheaters_tm = []\n",
    "for i in range(len(cheater_lst)):\n",
    "    cheaters_tm.append(cheater_lst[i][1])\n",
    "    \n",
    "cheaterdic = dict(zip(cheaters_id, cheaters_tm))\n",
    "\n",
    "useful_killing = []\n",
    "for each_killing in killing_lst:\n",
    "    if each_killing[1] in cheaters_id and each_killing[3] >= cheaterdic[each_killing[1]]:\n",
    "        useful_killing.append(each_killing)\n",
    "    elif each_killing[2] in cheaters_id and each_killing[3] >= cheaterdic[each_killing[2]]:\n",
    "        useful_killing.append(each_killing)\n",
    "\n",
    "## --- Next, create an empty dictionary, where key is the unique match-id numbers ---     \n",
    "unique_gm = []\n",
    "\n",
    "for i in range(len(useful_killing)):\n",
    "    game_id = useful_killing[i][0]\n",
    "    unique_gm.append(game_id)\n",
    "unique_match_gameid = list(set(unique_gm))\n",
    "game_dic = {k:[] for k in unique_match_gameid}\n",
    "# len(unique_match_gameid)\n",
    "# the result is 3000, only half of the match id are kept\n",
    "#store all killing relationships within for these 3000 games\n",
    "\n",
    "## --- Thirdly, store all killing relationships within for these 3000 game in a big dictionary ---\n",
    "for a, b, c, d in killing_lst:\n",
    "    if a in unique_match_gameid:\n",
    "        game_dic[a].append([a, b, c, d])\n",
    "        \n",
    "## --- Simulation Scheme could be checked in generalisation.py file"
   ]
  },
  {
   "cell_type": "code",
   "execution_count": 3,
   "metadata": {},
   "outputs": [
    {
     "name": "stdout",
     "output_type": "stream",
     "text": [
      "The amount of that victim–cheater motifs is 44.\n",
      "The amount of that victim–cheater motifs is 37.\n",
      "The amount of that victim–cheater motifs is 36.\n",
      "The amount of that victim–cheater motifs is 39.\n",
      "The amount of that victim–cheater motifs is 48.\n",
      "The amount of that victim–cheater motifs is 33.\n",
      "The amount of that victim–cheater motifs is 46.\n",
      "The amount of that victim–cheater motifs is 36.\n",
      "The amount of that victim–cheater motifs is 21.\n",
      "The amount of that victim–cheater motifs is 23.\n"
     ]
    }
   ],
   "source": [
    "#### Question 3 - Repeate 10 Simulations\n",
    "\n",
    "import generalisation\n",
    "import timecounter\n",
    "import peoplecounter\n",
    "\n",
    "n = 0\n",
    "while n < 10:\n",
    "    \n",
    "    simulated_universe = []\n",
    "    for i in game_dic:\n",
    "        simgame = game_dic[i]# create all_kiling_lst parameter for stimulated\n",
    "        simulated_universe.extend(generalisation.stimulated(simgame, cheaters_id, cheaterdic)) \n",
    "\n",
    "    peoplecounter.counter(simulated_universe, cheater_lst)\n",
    "    n = n + 1"
   ]
  },
  {
   "cell_type": "code",
   "execution_count": 7,
   "metadata": {
    "scrolled": true
   },
   "outputs": [
    {
     "data": {
      "image/png": "[encoded data removed]",
      "text/plain": [
       "<Figure size 864x720 with 1 Axes>"
      ]
     },
     "metadata": {
      "needs_background": "light"
     },
     "output_type": "display_data"
    }
   ],
   "source": [
    "import matplotlib.pyplot as plt\n",
    "import matplotlib.patches as mpatches\n",
    "import numpy as np\n",
    "\n",
    "indexvcm = np.array([1, 2, 3, 4, 5, 6, 7, 8, 9, 10])\n",
    "stimu_vcm = np.array([44, 37, 36, 39, 48, 33, 46, 36, 21, 23])\n",
    "# stimu_vcm just store the result of one ten-time simulation. \n",
    "# This might change when we run again.\n",
    "# However, the distribution of those ten numbers will be the same.\n",
    "\n",
    "plt.figure(figsize = [12, 10])\n",
    "\n",
    "l2 = plt.bar(indexvcm, stimu_vcm, width = 0.5, color = '#9ffeb0',alpha = 0.8)\n",
    "\n",
    "\n",
    "my_x_ticks = np.arange(0, 10, 1)\n",
    "\n",
    "l1 = plt.axhline(y = 29, color = 'r', linestyle = '--')\n",
    "l3 = plt.axhline(y = np.average(stimu_vcm), color = 'b', linestyle = '-')\n",
    "plt.xlabel('Ten Simulated Universe Games', fontsize = 15)\n",
    "plt.ylabel('Number of Victim Cheater Motifs', fontsize = 15)\n",
    "plt.title('Comparison of Victim–Cheater Motifs Distribution', fontsize = 15)\n",
    "plt.legend(handles=[l1,l2, l3],labels=['Real Game','Stimulated Game','Average Stimulation'],loc='best')\n",
    "\n",
    "\n",
    "plt.xticks(my_x_ticks, fontsize=15)\n",
    "plt.yticks(fontsize=15)\n",
    "\n",
    "plt.show()"
   ]
  },
  {
   "cell_type": "markdown",
   "metadata": {},
   "source": [
    "**The red dashed line represents the reality situation and the blue line shows the average level in simulation universe. After the simulation, it seems that most of the results are higher than the number we get in the real game. Therefore, it could not give us a strong confidence to say being cheated is an important motivation for becoming a cheater. Maybe an althernative methodology should be designed to test our hypothesis. My conclusion therefore seems to be that being cheated by others might encourage yourself to become a cheater, but there is no a strong correlation or positive connection between them. Altough the answer gives weak confidecnce to the hypothesis, the results will change with the increase of the simulation size.**"
   ]
  },
  {
   "cell_type": "markdown",
   "metadata": {},
   "source": [
    "---\n",
    "\n",
    "### Evaluation\n",
    "\n",
    "| Aspect | Mark     | Comment   \n",
    "|:-------:|:--------:|:----------------------\n",
    "| Code runs      |   /10    |              \n",
    "| Accuracy       |   /40    | \n",
    "| Legibility     |   /10    | \n",
    "| Modularity     |   /10    | \n",
    "| Order-of-growth optimization      |   /20    | \n",
    "| Additional runtime and space optimization   |   /10    | \n",
    "|**Total**|**/100**  | \n"
   ]
  }
 ],
 "metadata": {
  "kernelspec": {
   "display_name": "Python 3",
   "language": "python",
   "name": "python3"
  },
  "language_info": {
   "codemirror_mode": {
    "name": "ipython",
    "version": 3
   },
   "file_extension": ".py",
   "mimetype": "text/x-python",
   "name": "python",
   "nbconvert_exporter": "python",
   "pygments_lexer": "ipython3",
   "version": "3.7.3"
  }
 },
 "nbformat": 4,
 "nbformat_minor": 2
}
